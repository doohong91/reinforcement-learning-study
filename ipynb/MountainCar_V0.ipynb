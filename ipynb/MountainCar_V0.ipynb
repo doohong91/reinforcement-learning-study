{
  "nbformat": 4,
  "nbformat_minor": 0,
  "metadata": {
    "colab": {
      "name": "MountainCar-V0.ipynb",
      "provenance": [],
      "authorship_tag": "ABX9TyOXLygg6KrchbtTv/7Vfrkq",
      "include_colab_link": true
    },
    "kernelspec": {
      "name": "python3",
      "display_name": "Python 3"
    },
    "language_info": {
      "name": "python"
    },
    "accelerator": "GPU"
  },
  "cells": [
    {
      "cell_type": "markdown",
      "metadata": {
        "id": "view-in-github",
        "colab_type": "text"
      },
      "source": [
        "<a href=\"https://colab.research.google.com/github/doohong91/reinforcement-learning-study/blob/main/ipynb/MountainCar_V0.ipynb\" target=\"_parent\"><img src=\"https://colab.research.google.com/assets/colab-badge.svg\" alt=\"Open In Colab\"/></a>"
      ]
    },
    {
      "cell_type": "code",
      "metadata": {
        "id": "CWqdCoHMXPIR"
      },
      "source": [
        "import gym\n",
        "import collections\n",
        "import random\n",
        "import numpy as np\n",
        "import matplotlib.pyplot as plt\n",
        "\n",
        "import torch\n",
        "import torch.nn as nn\n",
        "import torch.nn.functional as F\n",
        "import torch.optim as optim\n",
        "\n",
        "#Hyperparameters\n",
        "learning_rate = 0.001\n",
        "gamma = 0.980\n",
        "buffer_limit = 100000\n",
        "batch_size = 2000"
      ],
      "execution_count": 20,
      "outputs": []
    },
    {
      "cell_type": "code",
      "metadata": {
        "id": "7JRPZ30pXPLI"
      },
      "source": [
        "class ReplayBuffer():\n",
        "    def __init__(self):\n",
        "        self.buffer = collections.deque(maxlen=buffer_limit)\n",
        "\n",
        "    def put(self, data):\n",
        "        self.buffer.append(data)\n",
        "\n",
        "    def sample(self, n):\n",
        "        mini_batch = random.sample(self.buffer, n)\n",
        "        s_lst, a_lst, r_lst, s_prime_lst, done_mask_lst = [], [], [], [], []\n",
        "\n",
        "        for transition in mini_batch:\n",
        "            s, a, r, s_prime, done_mask = transition\n",
        "            s_lst.append(s)\n",
        "            a_lst.append([a])\n",
        "            r_lst.append([r])\n",
        "            s_prime_lst.append(s_prime)\n",
        "            done_mask_lst.append([done_mask])\n",
        "        \n",
        "        return torch.tensor(s_lst, dtype=torch.float), torch.tensor(a_lst), torch.tensor(r_lst), torch.tensor(s_prime_lst, dtype=torch.float), torch.tensor(done_mask_lst)\n",
        "\n",
        "    def size(self):\n",
        "        return len(self.buffer)"
      ],
      "execution_count": 10,
      "outputs": []
    },
    {
      "cell_type": "code",
      "metadata": {
        "id": "QQCypxkBgtJb"
      },
      "source": [
        "class Qnet(nn.Module):\n",
        "    def __init__(self):\n",
        "        super(Qnet, self).__init__()\n",
        "        self.fc1 = nn.Linear(2, 128) \n",
        "        self.fc2 = nn.Linear(128, 128)\n",
        "        self.fc3 = nn.Linear(128, 3)\n",
        "\n",
        "    def forward(self, x):\n",
        "        x = F.relu(self.fc1(x))\n",
        "        x = F.relu(self.fc2(x))\n",
        "        x = self.fc3(x)\n",
        "        return x\n",
        "    \n",
        "    def sample_action(self, obs, epsilon):\n",
        "        out = self.forward(obs)\n",
        "        coin = random.random()\n",
        "\n",
        "        if coin < epsilon:\n",
        "            return random.randint(0,2)\n",
        "        else : \n",
        "            return out.argmax().item()"
      ],
      "execution_count": 22,
      "outputs": []
    },
    {
      "cell_type": "code",
      "metadata": {
        "id": "GOzZFXKYXPOy"
      },
      "source": [
        "def train(q, q_target, memory, optimizer):\n",
        "    for i in range(15):\n",
        "        s,a,r,s_prime,done_mask = memory.sample(batch_size)\n",
        "\n",
        "        q_out = q(s)\n",
        "        q_a = q_out.gather(1,a)\n",
        "\n",
        "        max_q_prime = q_target(s_prime).max(1)[0].unsqueeze(1)\n",
        "        target = r + gamma * max_q_prime * done_mask\n",
        "        loss = F.smooth_l1_loss(q_a, target)\n",
        "\n",
        "        optimizer.zero_grad()\n",
        "        loss.backward()\n",
        "        optimizer.step()"
      ],
      "execution_count": 23,
      "outputs": []
    },
    {
      "cell_type": "code",
      "metadata": {
        "id": "GfqApF4HEntf"
      },
      "source": [
        "env = gym.make('MountainCar-v0')\n",
        "q = Qnet()\n",
        "q_target = Qnet()\n",
        "q_target.load_state_dict(q.state_dict())\n",
        "memory = ReplayBuffer()\n",
        "\n",
        "print_interval = 20\n",
        "score = 0.0 \n",
        "optimizer = optim.Adam(q.parameters(), lr=learning_rate)\n",
        "render = False\n",
        "max_position = -0.4\n",
        "success = 0\n",
        "count = 0\n",
        "positions = np.ndarray([0,2])\n",
        "\n",
        "for n_epi in range(800):\n",
        "    epsilon = max(0.01, 0.08 - 0.01*(n_epi/100))\n",
        "\n",
        "    s = env.reset()\n",
        "\n",
        "    done = False\n",
        "\n",
        "    while not done:\n",
        "        a = q.sample_action(torch.from_numpy(s).float(), epsilon) \n",
        "        s_prime, r, done, info = env.step(a)\n",
        "        done_mask = 0.0 if done else 1.0\n",
        "\n",
        "        if a != 3:\n",
        "            count += 1\n",
        "\n",
        "        if s_prime[1]>0: #오른쪽으로 가는 속도에 더 큰 리워드를 받도록 한다.\n",
        "            r=((s_prime[0]+0.5)*10)**2/10+15*s_prime[1]-count/400 #위치에 따라 리워드를 이차함수 형태로 가중치를 받는다.\n",
        "        else:\n",
        "            r = ((s_prime[0]+0.5)*10)**2/10-count/400\n",
        "\n",
        "        if s_prime[0] > max_position:\n",
        "            max_position = s_prime[0]\n",
        "            positions = np.append(positions, [[n_epi, max_position]], axis=0)\n",
        "\n",
        "        if s_prime[0] >= 0.5: #flag 위치가 0.5\n",
        "            success += 1 #flag에 닿으면 성공\n",
        "            r = 20 #성공하면 리워드 20을 받는다.\n",
        "        else:\n",
        "            score -= 1\n",
        "\n",
        "        memory.put((s,a,r,s_prime, done_mask))\n",
        "        s = s_prime\n",
        "\n",
        "        if render:\n",
        "            env.render()\n",
        "\n",
        "        if done:\n",
        "            count = 0\n",
        "            max_position = -0.4\n",
        "            break\n",
        "\n",
        "        if success/print_interval*100 == 100:\n",
        "            render = True\n",
        "\n",
        "    if memory.size()>8000:\n",
        "        train(q, q_target, memory, optimizer)\n",
        "\n",
        "    if n_epi%print_interval==0 and n_epi!=0:\n",
        "        q_target.load_state_dict(q.state_dict())\n",
        "        print(\"n_episode :{}, score : {:.1f}, n_buffer : {}, eps : {:.1f}%, success rate : {}%\".format(\n",
        "        n_epi, score/print_interval, memory.size(), epsilon*100, success/print_interval*100))\n",
        "        score = 0.0\n",
        "        success = 0\n",
        "\n",
        "plt.figure(1, figsize=[10,5])\n",
        "plt.plot(positions[:,0], positions[:,1])\n",
        "plt.xlabel('Episode')\n",
        "plt.ylabel('Furthest Position')\n",
        "\n",
        "env.close()"
      ],
      "execution_count": null,
      "outputs": []
    },
    {
      "cell_type": "code",
      "metadata": {
        "id": "JJOV6LPwe9T3"
      },
      "source": [
        ""
      ],
      "execution_count": null,
      "outputs": []
    },
    {
      "cell_type": "code",
      "metadata": {
        "id": "GoFGO6_Ve9cc"
      },
      "source": [
        ""
      ],
      "execution_count": null,
      "outputs": []
    },
    {
      "cell_type": "code",
      "metadata": {
        "id": "0-yd_p3Ae9gj"
      },
      "source": [
        ""
      ],
      "execution_count": null,
      "outputs": []
    },
    {
      "cell_type": "code",
      "metadata": {
        "id": "3TP736bNM2su"
      },
      "source": [
        "# libraries\n",
        "import gym\n",
        "import collections\n",
        "import random\n",
        "\n",
        "# pytorch library is used for deep learning\n",
        "import torch\n",
        "import torch.nn as nn\n",
        "import torch.optim as optim\n",
        "import torch.nn.functional as F\n",
        "\n",
        "# hyperparameters\n",
        "learning_rate = 0.001\n",
        "gamma = 0.98\n",
        "buffer_limit = 100000        # size of replay buffer\n",
        "batch_size = 128"
      ],
      "execution_count": 98,
      "outputs": []
    },
    {
      "cell_type": "code",
      "metadata": {
        "id": "dJCWL6wBMX4W"
      },
      "source": [
        "class ReplayBuffer():\n",
        "    def __init__(self):\n",
        "        self.buffer = collections.deque(maxlen=buffer_limit)    # double-ended queue\n",
        "    \n",
        "    def put(self, transition):\n",
        "        self.buffer.append(transition)\n",
        "\n",
        "    def sample(self, n):\n",
        "        mini_batch = random.sample(self.buffer, n)\n",
        "        s_lst, a_lst, r_lst, s_prime_lst, done_mask_lst = [], [], [], [], []\n",
        "\n",
        "        for transition in mini_batch:\n",
        "            s, a, r, s_prime, done_mask = transition\n",
        "            s_lst.append(s)\n",
        "            a_lst.append([a])\n",
        "            r_lst.append([r])\n",
        "            s_prime_lst.append(s_prime)\n",
        "            done_mask_lst.append([done_mask])\n",
        "\n",
        "        return torch.tensor(s_lst, dtype=torch.float), torch.tensor(a_lst), \\\n",
        "               torch.tensor(r_lst), torch.tensor(s_prime_lst, dtype=torch.float), \\\n",
        "               torch.tensor(done_mask_lst)\n",
        "\n",
        "    def size(self):\n",
        "        return len(self.buffer)"
      ],
      "execution_count": 99,
      "outputs": []
    },
    {
      "cell_type": "code",
      "metadata": {
        "id": "jFl9qPtUMzbY"
      },
      "source": [
        "class DuelingQnet(nn.Module):\n",
        "    def __init__(self, n_obs, n_act):\n",
        "        super(DuelingQnet, self).__init__()\n",
        "        self.fc1 = nn.Linear(n_obs, 128)\n",
        "        self.fc_value = nn.Linear(128, 128)\n",
        "        self.fc_adv = nn.Linear(128, 128)\n",
        "        self.value = nn.Linear(128, 1)\n",
        "        self.adv = nn.Linear(128, n_act)\n",
        "\n",
        "    def forward(self, x):\n",
        "        x = F.relu(self.fc1(x))\n",
        "        v = F.relu(self.fc_value(x))\n",
        "        a = F.relu(self.fc_adv(x))\n",
        "        v = self.value(v)\n",
        "        a = self.adv(a)\n",
        "        a_avg = torch.mean(a)\n",
        "        q = v + a - a_avg\n",
        "        return q\n",
        "\n",
        "    def sample_action(self, obs, epsilon):\n",
        "        out = self.forward(obs)\n",
        "        coin = random.random()\n",
        "        if coin < epsilon:\n",
        "            return random.randint(0,1)\n",
        "        else : \n",
        "            return out.argmax().item()  "
      ],
      "execution_count": 100,
      "outputs": []
    },
    {
      "cell_type": "code",
      "metadata": {
        "id": "Rq8Ew83OS950"
      },
      "source": [
        "class Qnet(nn.Module):\n",
        "    def __init__(self, n_obs, n_act):\n",
        "        super(Qnet, self).__init__()\n",
        "        self.fc1 = nn.Linear(n_obs, 128)\n",
        "        self.fc2 = nn.Linear(128, 128)\n",
        "        self.fc3 = nn.Linear(128, n_act)\n",
        "\n",
        "    def forward(self, x):\n",
        "        x = F.relu(self.fc1(x))\n",
        "        x = F.relu(self.fc2(x))\n",
        "        x = self.fc3(x)\n",
        "        return x\n",
        "      \n",
        "    def sample_action(self, obs, epsilon):\n",
        "        out = self.forward(obs)\n",
        "        coin = random.random()\n",
        "        if coin < epsilon:\n",
        "            return random.randint(0,1)\n",
        "        else : \n",
        "            return out.argmax().item()   "
      ],
      "execution_count": 101,
      "outputs": []
    },
    {
      "cell_type": "code",
      "metadata": {
        "id": "rdDjgbldMzep"
      },
      "source": [
        "def train(q, q_target, memory, optimizer):\n",
        "    for i in range(20):\n",
        "        s,a,r,s_prime,done_mask = memory.sample(batch_size)\n",
        "\n",
        "        q_out = q(s)\n",
        "        q_a = q_out.gather(1,a)\n",
        "\n",
        "        # DQN\n",
        "        # max_q_prime = q_target(s_prime).max(1)[0].unsqueeze(1)\n",
        "\n",
        "        # Double DQN\n",
        "        argmax_Q = q(s_prime).max(1)[1].unsqueeze(1)\n",
        "        max_q_prime = q_target(s_prime).gather(1, argmax_Q)\n",
        "\n",
        "        target = r + gamma * max_q_prime * done_mask\n",
        "        \n",
        "        # MSE Loss\n",
        "        # loss = F.mse_loss(q_a, target)\n",
        "\n",
        "        # Smooth L1 Loss\n",
        "        loss = F.smooth_l1_loss(q_a, target)\n",
        "\n",
        "        optimizer.zero_grad()\n",
        "        loss.backward()\n",
        "        optimizer.step()"
      ],
      "execution_count": 106,
      "outputs": []
    },
    {
      "cell_type": "code",
      "metadata": {
        "id": "A36g7zZlqUUQ"
      },
      "source": [
        "# reward function reference: https://github.com/shivaverma/OpenAIGym/blob/master/mountain-car/MountainCar-v0.py\n",
        "\n",
        "def get_reward(state):\n",
        "\n",
        "    if state[0] >= 0.5:  # Car has reached the goal\n",
        "        return 10, 1\n",
        "    if state[0] > -0.4:\n",
        "        return (1+state[0])**2, 0\n",
        "    return -1, 0"
      ],
      "execution_count": 103,
      "outputs": []
    },
    {
      "cell_type": "code",
      "metadata": {
        "id": "4-rJ0ItGdIFO"
      },
      "source": [
        ""
      ],
      "execution_count": 103,
      "outputs": []
    },
    {
      "cell_type": "code",
      "metadata": {
        "id": "FJVIbFuIdIHE"
      },
      "source": [
        "env = gym.make('MountainCar-v0')\n",
        "\n",
        "q = DuelingQnet(env.observation_space.shape[0], env.action_space.n)\n",
        "q_target = DuelingQnet(env.observation_space.shape[0], env.action_space.n)\n",
        "q_target.load_state_dict(q.state_dict())\n",
        "memory = ReplayBuffer()\n",
        "\n",
        "print_interval = 20\n",
        "score = reached = 0.0\n",
        "logs = []\n",
        "optimizer = optim.Adam(q.parameters(), lr=learning_rate)\n",
        "\n",
        "for n_epi in range(3000):\n",
        "    epsilon = max(0.01, 0.08 - 0.01*(n_epi/200)) #Linear annealing from 8% to 1%\n",
        "    s = env.reset()\n",
        "    done = False\n",
        "    \n",
        "    while not done:\n",
        "        a = q.sample_action(torch.from_numpy(s).float(), epsilon)\n",
        "        s_prime, r, done, info = env.step(a)\n",
        "        done_mask = 0.0 if done else 1.0\n",
        "\n",
        "        # r, goal = get_reward(s_prime)\n",
        "        score += r\n",
        "        reached += 0 if r < 0 else 1\n",
        "\n",
        "        memory.put((s,a,r/100.0,s_prime, done_mask))\n",
        "        s = s_prime\n",
        "        \n",
        "        if done:\n",
        "            break\n",
        "        \n",
        "    if memory.size() > 8000:\n",
        "        train(q, q_target, memory, optimizer)\n",
        "\n",
        "    if n_epi%print_interval==0 and n_epi!=0:\n",
        "        q_target.load_state_dict(q.state_dict())\n",
        "        print(f\"n_episode: {n_epi}, score: {score:.1f}, reached: {reached:.2f}%, n_buffer: {memory.size()}, eps: {epsilon*100:.1f}%\")\n",
        "\n",
        "    logs.append(score)\n",
        "    score = reached = 0.0\n",
        "    \n",
        "\n",
        "env.close()"
      ],
      "execution_count": null,
      "outputs": []
    },
    {
      "cell_type": "code",
      "metadata": {
        "colab": {
          "base_uri": "https://localhost:8080/",
          "height": 625
        },
        "id": "84fiqpgHMzi9",
        "outputId": "d5b8ac51-36a9-46cf-d93d-dd01b65dd8d3"
      },
      "source": [
        "plt.figure(figsize=(20,10))\n",
        "plt.plot(logs)\n",
        "plt.xlabel('Iteration')\n",
        "plt.ylabel('Return')"
      ],
      "execution_count": 110,
      "outputs": [
        {
          "output_type": "execute_result",
          "data": {
            "text/plain": [
              "Text(0, 0.5, 'Return')"
            ]
          },
          "metadata": {},
          "execution_count": 110
        },
        {
          "output_type": "display_data",
          "data": {
            "image/png": "[encoded data removed]",
            "text/plain": [
              "<Figure size 1440x720 with 1 Axes>"
            ]
          },
          "metadata": {
            "needs_background": "light"
          }
        }
      ]
    },
    {
      "cell_type": "code",
      "metadata": {
        "id": "cqDI2mn15spX"
      },
      "source": [
        ""
      ],
      "execution_count": null,
      "outputs": []
    },
    {
      "cell_type": "code",
      "metadata": {
        "id": "jtBv1tDP5sss"
      },
      "source": [
        ""
      ],
      "execution_count": null,
      "outputs": []
    },
    {
      "cell_type": "code",
      "metadata": {
        "id": "IINS4GJP5svt"
      },
      "source": [
        ""
      ],
      "execution_count": null,
      "outputs": []
    },
    {
      "cell_type": "code",
      "metadata": {
        "id": "6eprJPHu5szV"
      },
      "source": [
        "class PolicyNet(torch.nn.Module):\n",
        "    def __init__(self, input_size, output_size, hidden_layer_size=128):\n",
        "        super(PolicyNet, self).__init__()\n",
        "        self.fc1 = torch.nn.Linear(input_size, hidden_layer_size)\n",
        "        self.fc2 = torch.nn.Linear(hidden_layer_size, output_size)\n",
        "        self.softmax = torch.nn.Softmax(dim=0)\n",
        "\n",
        "    def forward(self, x):\n",
        "        x = torch.from_numpy(x).float()\n",
        "        return self.softmax(self.fc2(torch.nn.functional.relu(self.fc1(x))))\n",
        "\n",
        "    def get_action_and_logp(self, x):\n",
        "        action_prob = self.forward(x)\n",
        "        m = torch.distributions.Categorical(action_prob)\n",
        "        action = m.sample()\n",
        "        logp = m.log_prob(action)\n",
        "        return action.item(), logp\n",
        "\n",
        "    def act(self, x):\n",
        "        action, _ = self.get_action_and_logp(x)\n",
        "        return action\n",
        "\n",
        "class ValueNet(torch.nn.Module):\n",
        "    def __init__(self, input_size, hidden_layer_size=128):\n",
        "        super(ValueNet, self).__init__()\n",
        "        self.fc1 = torch.nn.Linear(input_size, hidden_layer_size)\n",
        "        self.fc2 = torch.nn.Linear(hidden_layer_size, 1)\n",
        "\n",
        "    def forward(self, x):\n",
        "        x = torch.from_numpy(x).float()\n",
        "        return self.fc2(torch.nn.functional.relu(self.fc1(x)))\n",
        "\n"
      ],
      "execution_count": 111,
      "outputs": []
    },
    {
      "cell_type": "code",
      "metadata": {
        "id": "lysuXPJq5s1Z"
      },
      "source": [
        "def policyGradient(env, max_num_steps=1000, gamma=0.98, lr=0.01,\n",
        "                   num_traj=10, num_iter=200):\n",
        "    input_size = env.observation_space.shape[0]\n",
        "    output_size = env.action_space.n\n",
        "    Trajectory = namedtuple('Trajectory', 'states actions rewards dones logp')\n",
        "\n",
        "    def collect_trajectory():\n",
        "        state_list = []\n",
        "        action_list = []\n",
        "        reward_list = []\n",
        "        dones_list = []\n",
        "        logp_list = []\n",
        "        state = env.reset()\n",
        "        done = False\n",
        "        steps = 0\n",
        "        while not done:\n",
        "            action, logp = policy.get_action_and_logp(state)\n",
        "            newstate, reward, done, _ = env.step(action)\n",
        "            state_list.append(state)\n",
        "            action_list.append(action)\n",
        "            reward_list.append(reward)\n",
        "            dones_list.append(done)\n",
        "            logp_list.append(logp)\n",
        "            steps += 1\n",
        "            state = newstate\n",
        "\n",
        "        traj = Trajectory(states=state_list, actions=action_list,\n",
        "                          rewards=reward_list, logp=logp_list, dones=dones_list)\n",
        "        return traj\n",
        "\n",
        "    def calc_returns(rewards):\n",
        "        dis_rewards = [gamma**i * r for i, r in enumerate(rewards)]\n",
        "        return [sum(dis_rewards[i:]) for i in range(len(dis_rewards))]\n",
        "\n",
        "    policy = PolicyNet(input_size, output_size)\n",
        "    policy_optimizer = torch.optim.Adam(policy.parameters(), lr=lr)\n",
        "\n",
        "    value = ValueNet(input_size)\n",
        "    value_optimizer = torch.optim.Adam(value.parameters(), lr=lr)\n",
        "\n",
        "    mean_return_list = []\n",
        "    for it in range(num_iter):\n",
        "        traj_list = [collect_trajectory() for _ in range(num_traj)]\n",
        "        returns = [calc_returns(traj.rewards) for traj in traj_list]\n",
        "\n",
        "        #====================================#\n",
        "        # policy gradient with base function #\n",
        "        #====================================#\n",
        "        policy_loss_terms = [-1. * traj.logp[j] * (returns[i][j] - value(traj.states[j]))\n",
        "                            for i, traj in enumerate(traj_list) for j in range(len(traj.actions))]\n",
        "\n",
        "        #====================================#\n",
        "        # policy gradient with reward-to-go  #\n",
        "        #====================================#\n",
        "        #policy_loss_terms = [-1. * traj.logp[j] * (torch.Tensor([returns[i][j]]))\n",
        "        #                     for i, traj in enumerate(traj_list) for j in range(len(traj.actions))]\n",
        "\n",
        "        #====================================#\n",
        "        # policy gradient                    #\n",
        "        #====================================#\n",
        "        # policy_loss_terms = [-1. * traj.logp[j] * (torch.Tensor([returns[i][0]]))\n",
        "        #                      for i, traj in enumerate(traj_list) for j in range(len(traj.actions))]\n",
        "\n",
        "        policy_loss = 1. / num_traj * torch.cat(policy_loss_terms).sum()\n",
        "        policy_optimizer.zero_grad()\n",
        "        policy_loss.backward()\n",
        "        policy_optimizer.step()\n",
        "\n",
        "        value_loss_terms = [1. / len(traj.actions) * (value(traj.states[j]) - returns[i][j])**2.\n",
        "                            for i, traj in enumerate(traj_list) for j in range(len(traj.actions))]\n",
        "        value_loss = 1. / num_traj * torch.cat(value_loss_terms).sum()\n",
        "        value_optimizer.zero_grad()\n",
        "        value_loss.backward()\n",
        "        value_optimizer.step()\n",
        "\n",
        "        mean_return = 1. / num_traj * sum([traj_returns[0] for traj_returns in returns])\n",
        "        mean_return_list.append(mean_return)\n",
        "        if it % 10 == 0:\n",
        "            print('Iteration {}: Mean Return = {}'.format(it, mean_return))\n",
        "\n",
        "    return policy, mean_return_list"
      ],
      "execution_count": 115,
      "outputs": []
    },
    {
      "cell_type": "code",
      "metadata": {
        "colab": {
          "base_uri": "https://localhost:8080/"
        },
        "id": "iDMktmQy5s4J",
        "outputId": "1b28f159-a461-41dc-d032-834d5c0748c0"
      },
      "source": [
        "env = gym.make('MountainCar-v0')\n",
        "agent, mean_return_list = policyGradient(env, num_iter=500, gamma=1.0)"
      ],
      "execution_count": null,
      "outputs": [
        {
          "output_type": "stream",
          "name": "stdout",
          "text": [
            "Iteration 0: Mean Return = -200.0\n",
            "Iteration 10: Mean Return = -200.0\n",
            "Iteration 20: Mean Return = -200.0\n",
            "Iteration 30: Mean Return = -200.0\n",
            "Iteration 40: Mean Return = -200.0\n",
            "Iteration 50: Mean Return = -200.0\n",
            "Iteration 60: Mean Return = -200.0\n",
            "Iteration 70: Mean Return = -200.0\n",
            "Iteration 80: Mean Return = -200.0\n",
            "Iteration 90: Mean Return = -200.0\n",
            "Iteration 100: Mean Return = -200.0\n",
            "Iteration 110: Mean Return = -200.0\n",
            "Iteration 120: Mean Return = -200.0\n",
            "Iteration 130: Mean Return = -200.0\n",
            "Iteration 140: Mean Return = -200.0\n",
            "Iteration 150: Mean Return = -200.0\n",
            "Iteration 160: Mean Return = -200.0\n",
            "Iteration 170: Mean Return = -200.0\n",
            "Iteration 180: Mean Return = -200.0\n",
            "Iteration 190: Mean Return = -200.0\n",
            "Iteration 200: Mean Return = -200.0\n",
            "Iteration 210: Mean Return = -200.0\n",
            "Iteration 220: Mean Return = -200.0\n",
            "Iteration 230: Mean Return = -200.0\n"
          ]
        }
      ]
    },
    {
      "cell_type": "code",
      "metadata": {
        "id": "j9H2fP5B5s7C"
      },
      "source": [
        "plt.figure(figsize=(20,10))\n",
        "plt.plot(logs)\n",
        "plt.xlabel('Iteration')\n",
        "plt.ylabel('Average Return')"
      ],
      "execution_count": null,
      "outputs": []
    },
    {
      "cell_type": "code",
      "metadata": {
        "id": "wrIuNo8a5tA7"
      },
      "source": [
        ""
      ],
      "execution_count": null,
      "outputs": []
    },
    {
      "cell_type": "code",
      "metadata": {
        "id": "BdwHTbtV5tEo"
      },
      "source": [
        ""
      ],
      "execution_count": null,
      "outputs": []
    },
    {
      "cell_type": "code",
      "metadata": {
        "id": "HsPULehXSuvd"
      },
      "source": [
        ""
      ],
      "execution_count": null,
      "outputs": []
    }
  ]
}