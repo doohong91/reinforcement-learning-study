{
  "nbformat": 4,
  "nbformat_minor": 0,
  "metadata": {
    "colab": {
      "name": "MountainCar-V0.ipynb",
      "provenance": [],
      "collapsed_sections": [],
      "authorship_tag": "ABX9TyOzXDPYDvhcWvnad4wLChCV",
      "include_colab_link": true
    },
    "kernelspec": {
      "name": "python3",
      "display_name": "Python 3"
    },
    "language_info": {
      "name": "python"
    },
    "accelerator": "GPU"
  },
  "cells": [
    {
      "cell_type": "markdown",
      "metadata": {
        "id": "view-in-github",
        "colab_type": "text"
      },
      "source": [
        "<a href=\"https://colab.research.google.com/github/doohong91/reinforcement-learning-study/blob/main/ipynb/MountainCar_V0.ipynb\" target=\"_parent\"><img src=\"https://colab.research.google.com/assets/colab-badge.svg\" alt=\"Open In Colab\"/></a>"
      ]
    },
    {
      "cell_type": "code",
      "metadata": {
        "id": "3TP736bNM2su"
      },
      "source": [
        "# libraries\n",
        "import gym\n",
        "import collections\n",
        "from collections import namedtuple\n",
        "import random\n",
        "\n",
        "# pytorch library is used for deep learning\n",
        "import torch\n",
        "import torch.nn as nn\n",
        "import torch.optim as optim\n",
        "import torch.nn.functional as F\n",
        "\n",
        "import matplotlib.pyplot as plt\n",
        "\n",
        "# hyperparameters\n",
        "learning_rate = 0.001\n",
        "gamma = 0.99\n",
        "buffer_limit = 20000        # size of replay buffer\n",
        "batch_size = 64"
      ],
      "execution_count": 93,
      "outputs": []
    },
    {
      "cell_type": "code",
      "metadata": {
        "id": "dJCWL6wBMX4W"
      },
      "source": [
        "class ReplayBuffer():\n",
        "    def __init__(self):\n",
        "        self.buffer = collections.deque(maxlen=buffer_limit)    # double-ended queue\n",
        "    \n",
        "    def put(self, transition):\n",
        "        self.buffer.append(transition)\n",
        "\n",
        "    def sample(self, n):\n",
        "        mini_batch = random.sample(self.buffer, n)\n",
        "        s_lst, a_lst, r_lst, s_prime_lst, done_mask_lst = [], [], [], [], []\n",
        "\n",
        "        for transition in mini_batch:\n",
        "            s, a, r, s_prime, done_mask = transition\n",
        "            s_lst.append(s)\n",
        "            a_lst.append([a])\n",
        "            r_lst.append([r])\n",
        "            s_prime_lst.append(s_prime)\n",
        "            done_mask_lst.append([done_mask])\n",
        "\n",
        "        return torch.tensor(s_lst, dtype=torch.float), torch.tensor(a_lst), \\\n",
        "               torch.tensor(r_lst), torch.tensor(s_prime_lst, dtype=torch.float), \\\n",
        "               torch.tensor(done_mask_lst)\n",
        "\n",
        "    def size(self):\n",
        "        return len(self.buffer)"
      ],
      "execution_count": 117,
      "outputs": []
    },
    {
      "cell_type": "code",
      "metadata": {
        "id": "jFl9qPtUMzbY"
      },
      "source": [
        "class DuelingQnet(nn.Module):\n",
        "    def __init__(self, input_size, output_size, hidden_layer_size=128):\n",
        "        super(DuelingQnet, self).__init__()\n",
        "        self.fc1 = nn.Linear(input_size, hidden_layer_size)\n",
        "        self.fc_value = nn.Linear(hidden_layer_size, hidden_layer_size)\n",
        "        self.fc_adv = nn.Linear(hidden_layer_size, hidden_layer_size)\n",
        "        self.value = nn.Linear(hidden_layer_size, 1)\n",
        "        self.adv = nn.Linear(hidden_layer_size, output_size)\n",
        "\n",
        "    def forward(self, x):\n",
        "        x = F.relu(self.fc1(x))\n",
        "        v = F.relu(self.fc_value(x))\n",
        "        a = F.relu(self.fc_adv(x))\n",
        "        v = self.value(v)\n",
        "        a = self.adv(a)\n",
        "        a_avg = torch.mean(a)\n",
        "        q = v + a - a_avg\n",
        "        return q\n",
        "\n",
        "    def sample_action(self, obs, epsilon):\n",
        "        out = self.forward(obs)\n",
        "        coin = random.random()\n",
        "        if coin < epsilon:\n",
        "            return random.randint(0,1)\n",
        "        else : \n",
        "            return out.argmax().item()  "
      ],
      "execution_count": 102,
      "outputs": []
    },
    {
      "cell_type": "code",
      "metadata": {
        "id": "Rq8Ew83OS950"
      },
      "source": [
        "class Qnet(nn.Module):\n",
        "    def __init__(self, input_size, output_size, hidden_layer_size=128):\n",
        "        super(Qnet, self).__init__()\n",
        "        self.fc1 = nn.Linear(input_size, hidden_layer_size)\n",
        "        self.fc2 = nn.Linear(hidden_layer_size, hidden_layer_size)\n",
        "        self.fc3 = nn.Linear(hidden_layer_size, output_size)\n",
        "\n",
        "    def forward(self, x):\n",
        "        x = F.relu(self.fc1(x))\n",
        "        x = F.relu(self.fc2(x))\n",
        "        x = self.fc3(x)\n",
        "        return x\n",
        "      \n",
        "    def sample_action(self, obs, epsilon):\n",
        "        out = self.forward(obs)\n",
        "        coin = random.random()\n",
        "        if coin < epsilon:\n",
        "            return random.randint(0,1)\n",
        "        else : \n",
        "            return out.argmax().item()   "
      ],
      "execution_count": 103,
      "outputs": []
    },
    {
      "cell_type": "code",
      "metadata": {
        "id": "rdDjgbldMzep"
      },
      "source": [
        "def train(q, q_target, memory, optimizer):\n",
        "    for i in range(20):\n",
        "        s, a, r, s_prime, done_mask = memory.sample(batch_size)\n",
        "\n",
        "        q_out = q(s)\n",
        "        q_a = q_out.gather(1,a)\n",
        "\n",
        "        # DQN\n",
        "        # max_q_prime = q_target(s_prime).max(1)[0].unsqueeze(1)\n",
        "\n",
        "        # Double DQN\n",
        "        argmax_Q = q(s_prime).max(1)[1].unsqueeze(1)\n",
        "        max_q_prime = q_target(s_prime).gather(1, argmax_Q)\n",
        "\n",
        "        target = r + gamma * max_q_prime * done_mask\n",
        "        \n",
        "        # MSE Loss\n",
        "        # loss = F.mse_loss(q_a, target)\n",
        "\n",
        "        # Smooth L1 Loss\n",
        "        loss = F.smooth_l1_loss(q_a, target)\n",
        "\n",
        "        optimizer.zero_grad()\n",
        "        loss.backward()\n",
        "        optimizer.step()"
      ],
      "execution_count": 104,
      "outputs": []
    },
    {
      "cell_type": "code",
      "metadata": {
        "id": "A36g7zZlqUUQ"
      },
      "source": [
        "# reward function reference: https://github.com/shivaverma/OpenAIGym/blob/master/mountain-car/MountainCar-v0.py\n",
        "\n",
        "def get_reward(state):\n",
        "    if state[0] >= 0.5:  # Car has reached the goal\n",
        "        return 10\n",
        "    return (2 * abs(state[1] + state[0]))**2"
      ],
      "execution_count": 138,
      "outputs": []
    },
    {
      "cell_type": "code",
      "metadata": {
        "id": "4-rJ0ItGdIFO"
      },
      "source": [
        ""
      ],
      "execution_count": 6,
      "outputs": []
    },
    {
      "cell_type": "code",
      "metadata": {
        "id": "FJVIbFuIdIHE",
        "colab": {
          "base_uri": "https://localhost:8080/"
        },
        "outputId": "05055b16-2838-4111-87ce-305a19962969"
      },
      "source": [
        "env = gym.make('MountainCar-v0')\n",
        "\n",
        "q = Qnet(env.observation_space.shape[0], env.action_space.n)\n",
        "q_target = Qnet(env.observation_space.shape[0], env.action_space.n)\n",
        "q_target.load_state_dict(q.state_dict())\n",
        "memory = ReplayBuffer()\n",
        "\n",
        "print_interval = 200\n",
        "score = episode_score = 0.0\n",
        "converged = 0.0\n",
        "logs = []\n",
        "optimizer = optim.Adam(q.parameters(), lr=learning_rate)\n",
        "\n",
        "for n_epi in range(1, 10001):\n",
        "    epsilon = max(0.01, 0.1 - 0.01*(n_epi/print_interval))\n",
        "    s = env.reset()\n",
        "    done = False\n",
        "    \n",
        "    while not done:\n",
        "        a = q.sample_action(torch.from_numpy(s).float(), epsilon)\n",
        "        s_prime, r, done, info = env.step(a)\n",
        "        \n",
        "        reward = get_reward(s_prime)\n",
        "        if reward == 20:\n",
        "            done_mask = 1.0\n",
        "            converged += done_mask\n",
        "        else:\n",
        "            done_mask = 0.0\n",
        "\n",
        "        memory.put((s, a, reward, s_prime, done_mask))\n",
        "        s = s_prime\n",
        "\n",
        "        if done: \n",
        "            break\n",
        "        \n",
        "        episode_score += r\n",
        "\n",
        "    logs.append(episode_score)\n",
        "    score += episode_score\n",
        "    \n",
        "    if memory.size() > 4000:\n",
        "        train(q, q_target, memory, optimizer)\n",
        "\n",
        "    if n_epi%print_interval==0 and n_epi!=0:\n",
        "        q_target.load_state_dict(q.state_dict())\n",
        "        print(f\"n_episode: {n_epi}, avg_score: {score/print_interval:.1f}, converge_rate: {converged*100/print_interval:.2f}%, n_buffer: {memory.size()}, eps: {epsilon*100:.1f}%\")\n",
        "        score = converged = 0.0\n",
        "\n",
        "    episode_score = 0.0\n",
        "    \n",
        "env.close()"
      ],
      "execution_count": null,
      "outputs": [
        {
          "output_type": "stream",
          "name": "stdout",
          "text": [
            "n_episode: 200, avg_score: -190.9, converge_rate: 24.50%, n_buffer: 20000, eps: 9.0%\n",
            "n_episode: 400, avg_score: -188.0, converge_rate: 33.00%, n_buffer: 20000, eps: 8.0%\n",
            "n_episode: 600, avg_score: -194.2, converge_rate: 13.00%, n_buffer: 20000, eps: 7.0%\n",
            "n_episode: 800, avg_score: -192.4, converge_rate: 18.00%, n_buffer: 20000, eps: 6.0%\n",
            "n_episode: 1000, avg_score: -191.1, converge_rate: 21.50%, n_buffer: 20000, eps: 5.0%\n",
            "n_episode: 1200, avg_score: -191.2, converge_rate: 21.00%, n_buffer: 20000, eps: 4.0%\n",
            "n_episode: 1400, avg_score: -191.9, converge_rate: 20.50%, n_buffer: 20000, eps: 3.0%\n",
            "n_episode: 1600, avg_score: -192.7, converge_rate: 17.00%, n_buffer: 20000, eps: 2.0%\n",
            "n_episode: 1800, avg_score: -191.4, converge_rate: 19.50%, n_buffer: 20000, eps: 1.0%\n",
            "n_episode: 2000, avg_score: -194.7, converge_rate: 15.00%, n_buffer: 20000, eps: 1.0%\n",
            "n_episode: 2200, avg_score: -193.8, converge_rate: 17.50%, n_buffer: 20000, eps: 1.0%\n"
          ]
        }
      ]
    },
    {
      "cell_type": "code",
      "metadata": {
        "colab": {
          "base_uri": "https://localhost:8080/",
          "height": 625
        },
        "id": "84fiqpgHMzi9",
        "outputId": "688469a6-9170-402a-934d-35754fb46eab"
      },
      "source": [
        "plt.figure(figsize=(20,10))\n",
        "plt.plot(logs)\n",
        "plt.xlabel('Iteration')\n",
        "plt.ylabel('Return')"
      ],
      "execution_count": 100,
      "outputs": [
        {
          "output_type": "execute_result",
          "data": {
            "text/plain": [
              "Text(0, 0.5, 'Return')"
            ]
          },
          "metadata": {},
          "execution_count": 100
        },
        {
          "output_type": "display_data",
          "data": {
            "image/png": "[encoded data removed]",
            "text/plain": [
              "<Figure size 1440x720 with 1 Axes>"
            ]
          },
          "metadata": {
            "needs_background": "light"
          }
        }
      ]
    },
    {
      "cell_type": "code",
      "metadata": {
        "id": "cqDI2mn15spX"
      },
      "source": [
        ""
      ],
      "execution_count": 8,
      "outputs": []
    },
    {
      "cell_type": "code",
      "metadata": {
        "id": "jtBv1tDP5sss"
      },
      "source": [
        ""
      ],
      "execution_count": 8,
      "outputs": []
    },
    {
      "cell_type": "code",
      "metadata": {
        "id": "IINS4GJP5svt"
      },
      "source": [
        ""
      ],
      "execution_count": 8,
      "outputs": []
    },
    {
      "cell_type": "code",
      "metadata": {
        "id": "6eprJPHu5szV"
      },
      "source": [
        "class PolicyNet(torch.nn.Module):\n",
        "    def __init__(self, input_size, output_size, hidden_layer_size=128):\n",
        "        super(PolicyNet, self).__init__()\n",
        "        self.fc1 = torch.nn.Linear(input_size, hidden_layer_size)\n",
        "        self.fc2 = torch.nn.Linear(hidden_layer_size, output_size)\n",
        "        self.softmax = torch.nn.Softmax(dim=0)\n",
        "\n",
        "    def forward(self, x):\n",
        "        x = torch.from_numpy(x).float()\n",
        "        return self.softmax(self.fc2(torch.nn.functional.relu(self.fc1(x))))\n",
        "\n",
        "    def get_action_and_logp(self, x):\n",
        "        action_prob = self.forward(x)\n",
        "        m = torch.distributions.Categorical(action_prob)\n",
        "        action = m.sample()\n",
        "        logp = m.log_prob(action)\n",
        "        return action.item(), logp\n",
        "\n",
        "    def act(self, x):\n",
        "        action, _ = self.get_action_and_logp(x)\n",
        "        return action\n",
        "\n",
        "class ValueNet(torch.nn.Module):\n",
        "    def __init__(self, input_size, hidden_layer_size=128):\n",
        "        super(ValueNet, self).__init__()\n",
        "        self.fc1 = torch.nn.Linear(input_size, hidden_layer_size)\n",
        "        self.fc2 = torch.nn.Linear(hidden_layer_size, 1)\n",
        "\n",
        "    def forward(self, x):\n",
        "        x = torch.from_numpy(x).float()\n",
        "        return self.fc2(torch.nn.functional.relu(self.fc1(x)))\n",
        "\n"
      ],
      "execution_count": 4,
      "outputs": []
    },
    {
      "cell_type": "code",
      "metadata": {
        "id": "lysuXPJq5s1Z"
      },
      "source": [
        "def policyGradient(env, gamma=0.98, lr=0.01, num_traj=10, num_iter=200):\n",
        "    input_size = env.observation_space.shape[0]\n",
        "    output_size = env.action_space.n\n",
        "    Trajectory = namedtuple('Trajectory', 'states actions rewards dones logp')\n",
        "\n",
        "    def collect_trajectory():\n",
        "        state_list = []\n",
        "        action_list = []\n",
        "        reward_list = []\n",
        "        dones_list = []\n",
        "        logp_list = []\n",
        "        state = env.reset()\n",
        "        done = False\n",
        "        steps = 0\n",
        "        while not done:\n",
        "            action, logp = policy.get_action_and_logp(state)\n",
        "            newstate, reward, done, _ = env.step(action)\n",
        "            state_list.append(state)\n",
        "            action_list.append(action)\n",
        "            reward_list.append(reward)\n",
        "            dones_list.append(done)\n",
        "            logp_list.append(logp)\n",
        "            steps += 1\n",
        "            state = newstate\n",
        "        \n",
        "        if sum(reward_list) >= -198:\n",
        "            return Trajectory(states=state_list, actions=action_list, \n",
        "                              rewards=reward_list, logp=logp_list, dones=dones_list)\n",
        "        return\n",
        "\n",
        "    def calc_returns(rewards):\n",
        "        dis_rewards = [gamma**i * r for i, r in enumerate(rewards)]\n",
        "        return [sum(dis_rewards[i:]) for i in range(len(dis_rewards))]\n",
        "\n",
        "    policy = PolicyNet(input_size, output_size)\n",
        "    policy_optimizer = torch.optim.Adam(policy.parameters(), lr=lr)\n",
        "\n",
        "    value = ValueNet(input_size)\n",
        "    value_optimizer = torch.optim.Adam(value.parameters(), lr=lr)\n",
        "\n",
        "    mean_return_list = []\n",
        "    for it in range(num_iter):\n",
        "        traj_list = []\n",
        "        while len(traj_list) < num_traj:\n",
        "            traj = collect_trajectory()\n",
        "            if traj:\n",
        "                traj_list.append(traj)\n",
        "\n",
        "        returns = [calc_returns(traj.rewards) for traj in traj_list]\n",
        "\n",
        "        #====================================#\n",
        "        # policy gradient with base function #\n",
        "        #====================================#\n",
        "        policy_loss_terms = [-1. * traj.logp[j] * (returns[i][j] - value(traj.states[j]))\n",
        "                            for i, traj in enumerate(traj_list) for j in range(len(traj.actions))]\n",
        "\n",
        "        #====================================#\n",
        "        # policy gradient with reward-to-go  #\n",
        "        #====================================#\n",
        "        #policy_loss_terms = [-1. * traj.logp[j] * (torch.Tensor([returns[i][j]]))\n",
        "        #                     for i, traj in enumerate(traj_list) for j in range(len(traj.actions))]\n",
        "\n",
        "        #====================================#\n",
        "        # policy gradient                    #\n",
        "        #====================================#\n",
        "        # policy_loss_terms = [-1. * traj.logp[j] * (torch.Tensor([returns[i][0]]))\n",
        "        #                      for i, traj in enumerate(traj_list) for j in range(len(traj.actions))]\n",
        "\n",
        "        policy_loss = 1. / num_traj * torch.cat(policy_loss_terms).sum()\n",
        "        policy_optimizer.zero_grad()\n",
        "        policy_loss.backward()\n",
        "        policy_optimizer.step()\n",
        "\n",
        "        value_loss_terms = [1. / len(traj.actions) * (value(traj.states[j]) - returns[i][j])**2.\n",
        "                            for i, traj in enumerate(traj_list) for j in range(len(traj.actions))]\n",
        "        value_loss = 1. / num_traj * torch.cat(value_loss_terms).sum()\n",
        "        value_optimizer.zero_grad()\n",
        "        value_loss.backward()\n",
        "        value_optimizer.step()\n",
        "\n",
        "        mean_return = 1. / num_traj * sum([traj_returns[0] for traj_returns in returns])\n",
        "        mean_return_list.append(mean_return)\n",
        "        if it % 10 == 0:\n",
        "            print('Iteration {}: Mean Return = {}'.format(it, mean_return))\n",
        "\n",
        "    return policy, mean_return_list"
      ],
      "execution_count": 7,
      "outputs": []
    },
    {
      "cell_type": "code",
      "metadata": {
        "colab": {
          "base_uri": "https://localhost:8080/",
          "height": 348
        },
        "id": "iDMktmQy5s4J",
        "outputId": "6e0ebec8-b5f2-4636-dd04-55800c67b810"
      },
      "source": [
        "env = gym.make('MountainCar-v0')\n",
        "agent, mean_return_list = policyGradient(env, num_traj=5, num_iter=200, gamma=1.0)"
      ],
      "execution_count": 8,
      "outputs": [
        {
          "output_type": "error",
          "ename": "KeyboardInterrupt",
          "evalue": "ignored",
          "traceback": [
            "\u001b[0;31m---------------------------------------------------------------------------\u001b[0m",
            "\u001b[0;31mKeyboardInterrupt\u001b[0m                         Traceback (most recent call last)",
            "\u001b[0;32m<ipython-input-8-26f8cdac9fd0>\u001b[0m in \u001b[0;36m<module>\u001b[0;34m()\u001b[0m\n\u001b[1;32m      1\u001b[0m \u001b[0menv\u001b[0m \u001b[0;34m=\u001b[0m \u001b[0mgym\u001b[0m\u001b[0;34m.\u001b[0m\u001b[0mmake\u001b[0m\u001b[0;34m(\u001b[0m\u001b[0;34m'MountainCar-v0'\u001b[0m\u001b[0;34m)\u001b[0m\u001b[0;34m\u001b[0m\u001b[0;34m\u001b[0m\u001b[0m\n\u001b[0;32m----> 2\u001b[0;31m \u001b[0magent\u001b[0m\u001b[0;34m,\u001b[0m \u001b[0mmean_return_list\u001b[0m \u001b[0;34m=\u001b[0m \u001b[0mpolicyGradient\u001b[0m\u001b[0;34m(\u001b[0m\u001b[0menv\u001b[0m\u001b[0;34m,\u001b[0m \u001b[0mnum_traj\u001b[0m\u001b[0;34m=\u001b[0m\u001b[0;36m5\u001b[0m\u001b[0;34m,\u001b[0m \u001b[0mnum_iter\u001b[0m\u001b[0;34m=\u001b[0m\u001b[0;36m200\u001b[0m\u001b[0;34m,\u001b[0m \u001b[0mgamma\u001b[0m\u001b[0;34m=\u001b[0m\u001b[0;36m1.0\u001b[0m\u001b[0;34m)\u001b[0m\u001b[0;34m\u001b[0m\u001b[0;34m\u001b[0m\u001b[0m\n\u001b[0m",
            "\u001b[0;32m<ipython-input-7-08c84b6da526>\u001b[0m in \u001b[0;36mpolicyGradient\u001b[0;34m(env, gamma, lr, num_traj, num_iter)\u001b[0m\n\u001b[1;32m     43\u001b[0m         \u001b[0mtraj_list\u001b[0m \u001b[0;34m=\u001b[0m \u001b[0;34m[\u001b[0m\u001b[0;34m]\u001b[0m\u001b[0;34m\u001b[0m\u001b[0;34m\u001b[0m\u001b[0m\n\u001b[1;32m     44\u001b[0m         \u001b[0;32mwhile\u001b[0m \u001b[0mlen\u001b[0m\u001b[0;34m(\u001b[0m\u001b[0mtraj_list\u001b[0m\u001b[0;34m)\u001b[0m \u001b[0;34m<\u001b[0m \u001b[0mnum_traj\u001b[0m\u001b[0;34m:\u001b[0m\u001b[0;34m\u001b[0m\u001b[0;34m\u001b[0m\u001b[0m\n\u001b[0;32m---> 45\u001b[0;31m             \u001b[0mtraj\u001b[0m \u001b[0;34m=\u001b[0m \u001b[0mcollect_trajectory\u001b[0m\u001b[0;34m(\u001b[0m\u001b[0;34m)\u001b[0m\u001b[0;34m\u001b[0m\u001b[0;34m\u001b[0m\u001b[0m\n\u001b[0m\u001b[1;32m     46\u001b[0m             \u001b[0;32mif\u001b[0m \u001b[0mtraj\u001b[0m\u001b[0;34m:\u001b[0m\u001b[0;34m\u001b[0m\u001b[0;34m\u001b[0m\u001b[0m\n\u001b[1;32m     47\u001b[0m                 \u001b[0mtraj_list\u001b[0m\u001b[0;34m.\u001b[0m\u001b[0mappend\u001b[0m\u001b[0;34m(\u001b[0m\u001b[0mtraj\u001b[0m\u001b[0;34m)\u001b[0m\u001b[0;34m\u001b[0m\u001b[0;34m\u001b[0m\u001b[0m\n",
            "\u001b[0;32m<ipython-input-7-08c84b6da526>\u001b[0m in \u001b[0;36mcollect_trajectory\u001b[0;34m()\u001b[0m\n\u001b[1;32m     14\u001b[0m         \u001b[0msteps\u001b[0m \u001b[0;34m=\u001b[0m \u001b[0;36m0\u001b[0m\u001b[0;34m\u001b[0m\u001b[0;34m\u001b[0m\u001b[0m\n\u001b[1;32m     15\u001b[0m         \u001b[0;32mwhile\u001b[0m \u001b[0;32mnot\u001b[0m \u001b[0mdone\u001b[0m\u001b[0;34m:\u001b[0m\u001b[0;34m\u001b[0m\u001b[0;34m\u001b[0m\u001b[0m\n\u001b[0;32m---> 16\u001b[0;31m             \u001b[0maction\u001b[0m\u001b[0;34m,\u001b[0m \u001b[0mlogp\u001b[0m \u001b[0;34m=\u001b[0m \u001b[0mpolicy\u001b[0m\u001b[0;34m.\u001b[0m\u001b[0mget_action_and_logp\u001b[0m\u001b[0;34m(\u001b[0m\u001b[0mstate\u001b[0m\u001b[0;34m)\u001b[0m\u001b[0;34m\u001b[0m\u001b[0;34m\u001b[0m\u001b[0m\n\u001b[0m\u001b[1;32m     17\u001b[0m             \u001b[0mnewstate\u001b[0m\u001b[0;34m,\u001b[0m \u001b[0mreward\u001b[0m\u001b[0;34m,\u001b[0m \u001b[0mdone\u001b[0m\u001b[0;34m,\u001b[0m \u001b[0m_\u001b[0m \u001b[0;34m=\u001b[0m \u001b[0menv\u001b[0m\u001b[0;34m.\u001b[0m\u001b[0mstep\u001b[0m\u001b[0;34m(\u001b[0m\u001b[0maction\u001b[0m\u001b[0;34m)\u001b[0m\u001b[0;34m\u001b[0m\u001b[0;34m\u001b[0m\u001b[0m\n\u001b[1;32m     18\u001b[0m             \u001b[0mstate_list\u001b[0m\u001b[0;34m.\u001b[0m\u001b[0mappend\u001b[0m\u001b[0;34m(\u001b[0m\u001b[0mstate\u001b[0m\u001b[0;34m)\u001b[0m\u001b[0;34m\u001b[0m\u001b[0;34m\u001b[0m\u001b[0m\n",
            "\u001b[0;32m<ipython-input-4-40b0d235f128>\u001b[0m in \u001b[0;36mget_action_and_logp\u001b[0;34m(self, x)\u001b[0m\n\u001b[1;32m     14\u001b[0m         \u001b[0mm\u001b[0m \u001b[0;34m=\u001b[0m \u001b[0mtorch\u001b[0m\u001b[0;34m.\u001b[0m\u001b[0mdistributions\u001b[0m\u001b[0;34m.\u001b[0m\u001b[0mCategorical\u001b[0m\u001b[0;34m(\u001b[0m\u001b[0maction_prob\u001b[0m\u001b[0;34m)\u001b[0m\u001b[0;34m\u001b[0m\u001b[0;34m\u001b[0m\u001b[0m\n\u001b[1;32m     15\u001b[0m         \u001b[0maction\u001b[0m \u001b[0;34m=\u001b[0m \u001b[0mm\u001b[0m\u001b[0;34m.\u001b[0m\u001b[0msample\u001b[0m\u001b[0;34m(\u001b[0m\u001b[0;34m)\u001b[0m\u001b[0;34m\u001b[0m\u001b[0;34m\u001b[0m\u001b[0m\n\u001b[0;32m---> 16\u001b[0;31m         \u001b[0mlogp\u001b[0m \u001b[0;34m=\u001b[0m \u001b[0mm\u001b[0m\u001b[0;34m.\u001b[0m\u001b[0mlog_prob\u001b[0m\u001b[0;34m(\u001b[0m\u001b[0maction\u001b[0m\u001b[0;34m)\u001b[0m\u001b[0;34m\u001b[0m\u001b[0;34m\u001b[0m\u001b[0m\n\u001b[0m\u001b[1;32m     17\u001b[0m         \u001b[0;32mreturn\u001b[0m \u001b[0maction\u001b[0m\u001b[0;34m.\u001b[0m\u001b[0mitem\u001b[0m\u001b[0;34m(\u001b[0m\u001b[0;34m)\u001b[0m\u001b[0;34m,\u001b[0m \u001b[0mlogp\u001b[0m\u001b[0;34m\u001b[0m\u001b[0;34m\u001b[0m\u001b[0m\n\u001b[1;32m     18\u001b[0m \u001b[0;34m\u001b[0m\u001b[0m\n",
            "\u001b[0;32m/usr/local/lib/python3.7/dist-packages/torch/distributions/categorical.py\u001b[0m in \u001b[0;36mlog_prob\u001b[0;34m(self, value)\u001b[0m\n\u001b[1;32m    115\u001b[0m     \u001b[0;32mdef\u001b[0m \u001b[0mlog_prob\u001b[0m\u001b[0;34m(\u001b[0m\u001b[0mself\u001b[0m\u001b[0;34m,\u001b[0m \u001b[0mvalue\u001b[0m\u001b[0;34m)\u001b[0m\u001b[0;34m:\u001b[0m\u001b[0;34m\u001b[0m\u001b[0;34m\u001b[0m\u001b[0m\n\u001b[1;32m    116\u001b[0m         \u001b[0;32mif\u001b[0m \u001b[0mself\u001b[0m\u001b[0;34m.\u001b[0m\u001b[0m_validate_args\u001b[0m\u001b[0;34m:\u001b[0m\u001b[0;34m\u001b[0m\u001b[0;34m\u001b[0m\u001b[0m\n\u001b[0;32m--> 117\u001b[0;31m             \u001b[0mself\u001b[0m\u001b[0;34m.\u001b[0m\u001b[0m_validate_sample\u001b[0m\u001b[0;34m(\u001b[0m\u001b[0mvalue\u001b[0m\u001b[0;34m)\u001b[0m\u001b[0;34m\u001b[0m\u001b[0;34m\u001b[0m\u001b[0m\n\u001b[0m\u001b[1;32m    118\u001b[0m         \u001b[0mvalue\u001b[0m \u001b[0;34m=\u001b[0m \u001b[0mvalue\u001b[0m\u001b[0;34m.\u001b[0m\u001b[0mlong\u001b[0m\u001b[0;34m(\u001b[0m\u001b[0;34m)\u001b[0m\u001b[0;34m.\u001b[0m\u001b[0munsqueeze\u001b[0m\u001b[0;34m(\u001b[0m\u001b[0;34m-\u001b[0m\u001b[0;36m1\u001b[0m\u001b[0;34m)\u001b[0m\u001b[0;34m\u001b[0m\u001b[0;34m\u001b[0m\u001b[0m\n\u001b[1;32m    119\u001b[0m         \u001b[0mvalue\u001b[0m\u001b[0;34m,\u001b[0m \u001b[0mlog_pmf\u001b[0m \u001b[0;34m=\u001b[0m \u001b[0mtorch\u001b[0m\u001b[0;34m.\u001b[0m\u001b[0mbroadcast_tensors\u001b[0m\u001b[0;34m(\u001b[0m\u001b[0mvalue\u001b[0m\u001b[0;34m,\u001b[0m \u001b[0mself\u001b[0m\u001b[0;34m.\u001b[0m\u001b[0mlogits\u001b[0m\u001b[0;34m)\u001b[0m\u001b[0;34m\u001b[0m\u001b[0;34m\u001b[0m\u001b[0m\n",
            "\u001b[0;32m/usr/local/lib/python3.7/dist-packages/torch/distributions/distribution.py\u001b[0m in \u001b[0;36m_validate_sample\u001b[0;34m(self, value)\u001b[0m\n\u001b[1;32m    284\u001b[0m             \u001b[0;32mreturn\u001b[0m\u001b[0;34m\u001b[0m\u001b[0;34m\u001b[0m\u001b[0m\n\u001b[1;32m    285\u001b[0m         \u001b[0;32massert\u001b[0m \u001b[0msupport\u001b[0m \u001b[0;32mis\u001b[0m \u001b[0;32mnot\u001b[0m \u001b[0;32mNone\u001b[0m\u001b[0;34m\u001b[0m\u001b[0;34m\u001b[0m\u001b[0m\n\u001b[0;32m--> 286\u001b[0;31m         \u001b[0mvalid\u001b[0m \u001b[0;34m=\u001b[0m \u001b[0msupport\u001b[0m\u001b[0;34m.\u001b[0m\u001b[0mcheck\u001b[0m\u001b[0;34m(\u001b[0m\u001b[0mvalue\u001b[0m\u001b[0;34m)\u001b[0m\u001b[0;34m\u001b[0m\u001b[0;34m\u001b[0m\u001b[0m\n\u001b[0m\u001b[1;32m    287\u001b[0m         \u001b[0;32mif\u001b[0m \u001b[0;32mnot\u001b[0m \u001b[0mvalid\u001b[0m\u001b[0;34m.\u001b[0m\u001b[0mall\u001b[0m\u001b[0;34m(\u001b[0m\u001b[0;34m)\u001b[0m\u001b[0;34m:\u001b[0m\u001b[0;34m\u001b[0m\u001b[0;34m\u001b[0m\u001b[0m\n\u001b[1;32m    288\u001b[0m             raise ValueError(\n",
            "\u001b[0;32m/usr/local/lib/python3.7/dist-packages/torch/distributions/constraints.py\u001b[0m in \u001b[0;36mcheck\u001b[0;34m(self, value)\u001b[0m\n\u001b[1;32m    248\u001b[0m \u001b[0;34m\u001b[0m\u001b[0m\n\u001b[1;32m    249\u001b[0m     \u001b[0;32mdef\u001b[0m \u001b[0mcheck\u001b[0m\u001b[0;34m(\u001b[0m\u001b[0mself\u001b[0m\u001b[0;34m,\u001b[0m \u001b[0mvalue\u001b[0m\u001b[0;34m)\u001b[0m\u001b[0;34m:\u001b[0m\u001b[0;34m\u001b[0m\u001b[0;34m\u001b[0m\u001b[0m\n\u001b[0;32m--> 250\u001b[0;31m         \u001b[0;32mreturn\u001b[0m \u001b[0;34m(\u001b[0m\u001b[0mvalue\u001b[0m \u001b[0;34m%\u001b[0m \u001b[0;36m1\u001b[0m \u001b[0;34m==\u001b[0m \u001b[0;36m0\u001b[0m\u001b[0;34m)\u001b[0m \u001b[0;34m&\u001b[0m \u001b[0;34m(\u001b[0m\u001b[0mself\u001b[0m\u001b[0;34m.\u001b[0m\u001b[0mlower_bound\u001b[0m \u001b[0;34m<=\u001b[0m \u001b[0mvalue\u001b[0m\u001b[0;34m)\u001b[0m \u001b[0;34m&\u001b[0m \u001b[0;34m(\u001b[0m\u001b[0mvalue\u001b[0m \u001b[0;34m<=\u001b[0m \u001b[0mself\u001b[0m\u001b[0;34m.\u001b[0m\u001b[0mupper_bound\u001b[0m\u001b[0;34m)\u001b[0m\u001b[0;34m\u001b[0m\u001b[0;34m\u001b[0m\u001b[0m\n\u001b[0m\u001b[1;32m    251\u001b[0m \u001b[0;34m\u001b[0m\u001b[0m\n\u001b[1;32m    252\u001b[0m     \u001b[0;32mdef\u001b[0m \u001b[0m__repr__\u001b[0m\u001b[0;34m(\u001b[0m\u001b[0mself\u001b[0m\u001b[0;34m)\u001b[0m\u001b[0;34m:\u001b[0m\u001b[0;34m\u001b[0m\u001b[0;34m\u001b[0m\u001b[0m\n",
            "\u001b[0;31mKeyboardInterrupt\u001b[0m: "
          ]
        }
      ]
    },
    {
      "cell_type": "code",
      "metadata": {
        "id": "j9H2fP5B5s7C",
        "colab": {
          "base_uri": "https://localhost:8080/",
          "height": 625
        },
        "outputId": "3a777c91-8d87-4b61-c6c0-189f7bbd6260"
      },
      "source": [
        "plt.figure(figsize=(20,10))\n",
        "plt.plot(logs)\n",
        "plt.xlabel('Iteration')\n",
        "plt.ylabel('Average Return')"
      ],
      "execution_count": 12,
      "outputs": [
        {
          "output_type": "execute_result",
          "data": {
            "text/plain": [
              "Text(0, 0.5, 'Average Return')"
            ]
          },
          "metadata": {},
          "execution_count": 12
        },
        {
          "output_type": "display_data",
          "data": {
            "image/png": "[encoded data removed]",
            "text/plain": [
              "<Figure size 1440x720 with 1 Axes>"
            ]
          },
          "metadata": {
            "needs_background": "light"
          }
        }
      ]
    },
    {
      "cell_type": "code",
      "metadata": {
        "id": "wrIuNo8a5tA7"
      },
      "source": [
        ""
      ],
      "execution_count": null,
      "outputs": []
    },
    {
      "cell_type": "code",
      "metadata": {
        "id": "BdwHTbtV5tEo"
      },
      "source": [
        ""
      ],
      "execution_count": null,
      "outputs": []
    },
    {
      "cell_type": "code",
      "metadata": {
        "id": "HsPULehXSuvd"
      },
      "source": [
        ""
      ],
      "execution_count": null,
      "outputs": []
    }
  ]
}